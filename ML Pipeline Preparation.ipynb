{
 "cells": [
  {
   "cell_type": "markdown",
   "metadata": {},
   "source": [
    "# ML Pipeline Preparation\n",
    "Follow the instructions below to help you create your ML pipeline.\n",
    "### 1. Import libraries and load data from database.\n",
    "- Import Python libraries\n",
    "- Load dataset from database with [`read_sql_table`](https://pandas.pydata.org/pandas-docs/stable/generated/pandas.read_sql_table.html)\n",
    "- Define feature and target variables X and Y"
   ]
  },
  {
   "cell_type": "code",
   "execution_count": 11,
   "metadata": {},
   "outputs": [
    {
     "name": "stdout",
     "output_type": "stream",
     "text": [
      "[nltk_data] Downloading package punkt to /root/nltk_data...\n",
      "[nltk_data]   Package punkt is already up-to-date!\n",
      "[nltk_data] Downloading package wordnet to /root/nltk_data...\n",
      "[nltk_data]   Package wordnet is already up-to-date!\n",
      "[nltk_data] Downloading package stopwords to /root/nltk_data...\n",
      "[nltk_data]   Package stopwords is already up-to-date!\n",
      "[nltk_data] Downloading package vader_lexicon to /root/nltk_data...\n",
      "[nltk_data]   Package vader_lexicon is already up-to-date!\n"
     ]
    }
   ],
   "source": [
    "# import libraries\n",
    "import re\n",
    "\n",
    "import pandas as pd\n",
    "import numpy as np\n",
    "from sqlalchemy import create_engine\n",
    "\n",
    "import nltk\n",
    "nltk.download(['punkt', 'wordnet', 'stopwords', 'vader_lexicon'])\n",
    "from nltk.tokenize import word_tokenize\n",
    "from nltk.stem import WordNetLemmatizer\n",
    "from nltk.corpus import stopwords\n",
    "from nltk.sentiment.vader import SentimentIntensityAnalyzer\n",
    "\n",
    "from sklearn.externals import joblib\n",
    "from sklearn.feature_extraction.text import CountVectorizer, TfidfTransformer\n",
    "from sklearn.model_selection import train_test_split, GridSearchCV\n",
    "from sklearn.multioutput import MultiOutputClassifier\n",
    "from sklearn.ensemble import RandomForestClassifier\n",
    "from sklearn.pipeline import Pipeline, FeatureUnion\n",
    "from sklearn.metrics import classification_report\n",
    "from sklearn.base import BaseEstimator, TransformerMixin\n",
    "from sklearn.svm import LinearSVC\n",
    "from sklearn.preprocessing import Normalizer\n",
    "from sklearn.kernel_approximation import Nystroem\n",
    "from sklearn.multioutput import MultiOutputClassifier\n",
    "from sklearn.ensemble import RandomForestClassifier"
   ]
  },
  {
   "cell_type": "code",
   "execution_count": 2,
   "metadata": {},
   "outputs": [],
   "source": [
    "# load data from database\n",
    "engine = create_engine('sqlite:///disaster_response.db')\n",
    "df = pd.read_sql('etl', engine)\n",
    "X = df.message.values\n",
    "Y = df.iloc[:,4:].copy()"
   ]
  },
  {
   "cell_type": "markdown",
   "metadata": {},
   "source": [
    "### 2. Write a tokenization function to process your text data"
   ]
  },
  {
   "cell_type": "code",
   "execution_count": 3,
   "metadata": {},
   "outputs": [],
   "source": [
    "def tokenize(text):\n",
    "    text = re.sub('[^a-zA-Z0-9]', ' ', text)\n",
    "    words = word_tokenize(text.lower())\n",
    "    words = [w for w in words if w not in stopwords.words('english')]\n",
    "    lemmatizer = WordNetLemmatizer()\n",
    "    for w in words:\n",
    "        lemmatizer.lemmatize(w)\n",
    "        lemmatizer.lemmatize(w, pos='v')\n",
    "        lemmatizer.lemmatize(w, pos='a')\n",
    "    return words"
   ]
  },
  {
   "cell_type": "markdown",
   "metadata": {},
   "source": [
    "### 3. Build a machine learning pipeline\n",
    "This machine pipeline should take in the `message` column as input and output classification results on the other 36 categories in the dataset. You may find the [MultiOutputClassifier](http://scikit-learn.org/stable/modules/generated/sklearn.multioutput.MultiOutputClassifier.html) helpful for predicting multiple target variables."
   ]
  },
  {
   "cell_type": "code",
   "execution_count": 16,
   "metadata": {},
   "outputs": [],
   "source": [
    "pipeline = Pipeline([\n",
    "    ('nlp', FeatureUnion([\n",
    "        ('importance', Pipeline([\n",
    "            ('bow', CountVectorizer(tokenizer=tokenize)),\n",
    "            ('tfidf', TfidfTransformer())\n",
    "        ])),\n",
    "         ('sentiment', VaderSentiment())\n",
    "        \n",
    "    ])),\n",
    "    ('clf', MultiOutputClassifier(RandomForestClassifier(random_state=42)))\n",
    "])"
   ]
  },
  {
   "cell_type": "markdown",
   "metadata": {},
   "source": [
    "### 4. Train pipeline\n",
    "- Split data into train and test sets\n",
    "- Train pipeline"
   ]
  },
  {
   "cell_type": "code",
   "execution_count": 34,
   "metadata": {},
   "outputs": [
    {
     "data": {
      "text/plain": [
       "Pipeline(memory=None,\n",
       "     steps=[('nlp', FeatureUnion(n_jobs=1,\n",
       "       transformer_list=[('importance', Pipeline(memory=None,\n",
       "     steps=[('bow', CountVectorizer(analyzer='word', binary=False, decode_error='strict',\n",
       "        dtype=<class 'numpy.int64'>, encoding='utf-8', input='content',\n",
       "        lowercase=True, max_df=1.0, ma...lti_class='ovr', penalty='l2', random_state=42, tol=0.0001,\n",
       "     verbose=0),\n",
       "           n_jobs=-1))])"
      ]
     },
     "execution_count": 34,
     "metadata": {},
     "output_type": "execute_result"
    }
   ],
   "source": [
    "X_train, X_test, Y_train, Y_test = train_test_split(X, Y, test_size=0.2)\n",
    "pipeline.fit(X_train, Y_train)"
   ]
  },
  {
   "cell_type": "markdown",
   "metadata": {},
   "source": [
    "### 5. Test your model\n",
    "Report the f1 score, precision and recall for each output category of the dataset. You can do this by iterating through the columns and calling sklearn's `classification_report` on each."
   ]
  },
  {
   "cell_type": "code",
   "execution_count": 35,
   "metadata": {
    "scrolled": true
   },
   "outputs": [
    {
     "name": "stdout",
     "output_type": "stream",
     "text": [
      "             precision    recall  f1-score   support\n",
      "\n",
      "          0       0.77      1.00      0.87      4020\n",
      "          1       0.00      0.00      0.00       915\n",
      "          2       0.00      0.00      0.00        29\n",
      "          3       0.00      0.00      0.00      2221\n",
      "          4       0.00      0.00      0.00       405\n",
      "          5       0.00      0.00      0.00       249\n",
      "          6       0.00      0.00      0.00       140\n",
      "          7       0.00      0.00      0.00        95\n",
      "          8       0.00      0.00      0.00       172\n",
      "          9       0.00      0.00      0.00       340\n",
      "         10       0.00      0.00      0.00       580\n",
      "         11       0.00      0.00      0.00       438\n",
      "         12       0.00      0.00      0.00        87\n",
      "         13       0.00      0.00      0.00       144\n",
      "         14       0.00      0.00      0.00        52\n",
      "         15       0.00      0.00      0.00       161\n",
      "         16       0.00      0.00      0.00       234\n",
      "         17       0.00      0.00      0.00       702\n",
      "         18       0.00      0.00      0.00       337\n",
      "         19       0.00      0.00      0.00       236\n",
      "         20       0.00      0.00      0.00       291\n",
      "         21       0.00      0.00      0.00       113\n",
      "         22       0.00      0.00      0.00        29\n",
      "         23       0.00      0.00      0.00        54\n",
      "         24       0.00      0.00      0.00        26\n",
      "         25       0.00      0.00      0.00        58\n",
      "         26       0.00      0.00      0.00       240\n",
      "         27       0.00      0.00      0.00      1469\n",
      "         28       0.00      0.00      0.00       441\n",
      "         29       0.00      0.00      0.00       518\n",
      "         30       0.00      0.00      0.00        58\n",
      "         31       0.00      0.00      0.00       484\n",
      "         32       0.00      0.00      0.00        90\n",
      "         33       0.00      0.00      0.00       275\n",
      "         34       0.00      0.00      0.00      1028\n",
      "\n",
      "avg / total       0.19      0.24      0.21     16731\n",
      "\n"
     ]
    },
    {
     "name": "stderr",
     "output_type": "stream",
     "text": [
      "/opt/conda/lib/python3.6/site-packages/sklearn/metrics/classification.py:1135: UndefinedMetricWarning: Precision and F-score are ill-defined and being set to 0.0 in labels with no predicted samples.\n",
      "  'precision', 'predicted', average, warn_for)\n"
     ]
    }
   ],
   "source": [
    "Y_pred = pipeline.predict(X_test)\n",
    "print(classification_report(Y_test, Y_pred))"
   ]
  },
  {
   "cell_type": "markdown",
   "metadata": {},
   "source": [
    "#('kernel_approximation', Nystroem(random_state = 42)),\n",
    "#'kernel_approximation__n_components': [100, 200],"
   ]
  },
  {
   "cell_type": "markdown",
   "metadata": {},
   "source": [
    "### 6. Improve your model\n",
    "Use grid search to find better parameters. "
   ]
  },
  {
   "cell_type": "code",
   "execution_count": 7,
   "metadata": {},
   "outputs": [],
   "source": [
    "pipeline = Pipeline([\n",
    "    ('nlp', FeatureUnion([\n",
    "        ('importance', Pipeline([\n",
    "            ('bow', CountVectorizer(tokenizer=tokenize, min_df=5, ngram_range=(1,2))),\n",
    "            ('tfidf', TfidfTransformer())\n",
    "        ])),\n",
    "         ('sentiment', VaderSentiment(tokenize))\n",
    "    ])),\n",
    "    ('scale', Normalizer()),\n",
    "    ('clf', MultiOutputClassifier(LinearSVC(random_state=42, class_weight='balanced')))\n",
    "])\n",
    "\n",
    "\n",
    "parameters = {\n",
    "    'nlp__importance__tfidf__sublinear_tf': [True, False]\n",
    "}\n",
    "\n",
    "cv = GridSearchCV(pipeline, param_grid=parameters, cv=2, verbose=2)"
   ]
  },
  {
   "cell_type": "code",
   "execution_count": 8,
   "metadata": {
    "scrolled": true
   },
   "outputs": [
    {
     "name": "stdout",
     "output_type": "stream",
     "text": [
      "Fitting 2 folds for each of 2 candidates, totalling 4 fits\n",
      "[CV] nlp__importance__tfidf__sublinear_tf=True .......................\n",
      "[CV] ........ nlp__importance__tfidf__sublinear_tf=True, total= 3.5min\n",
      "[CV] nlp__importance__tfidf__sublinear_tf=True .......................\n"
     ]
    },
    {
     "name": "stderr",
     "output_type": "stream",
     "text": [
      "[Parallel(n_jobs=1)]: Done   1 out of   1 | elapsed:  5.2min remaining:    0.0s\n"
     ]
    },
    {
     "name": "stdout",
     "output_type": "stream",
     "text": [
      "[CV] ........ nlp__importance__tfidf__sublinear_tf=True, total= 3.6min\n",
      "[CV] nlp__importance__tfidf__sublinear_tf=False ......................\n",
      "[CV] ....... nlp__importance__tfidf__sublinear_tf=False, total= 3.6min\n",
      "[CV] nlp__importance__tfidf__sublinear_tf=False ......................\n",
      "[CV] ....... nlp__importance__tfidf__sublinear_tf=False, total= 3.6min\n"
     ]
    },
    {
     "name": "stderr",
     "output_type": "stream",
     "text": [
      "[Parallel(n_jobs=1)]: Done   4 out of   4 | elapsed: 21.3min finished\n"
     ]
    },
    {
     "data": {
      "text/plain": [
       "GridSearchCV(cv=2, error_score='raise',\n",
       "       estimator=Pipeline(memory=None,\n",
       "     steps=[('nlp', FeatureUnion(n_jobs=1,\n",
       "       transformer_list=[('importance', Pipeline(memory=None,\n",
       "     steps=[('bow', CountVectorizer(analyzer='word', binary=False, decode_error='strict',\n",
       "        dtype=<class 'numpy.int64'>, encoding='utf-8', input='content',\n",
       "        lowercase=True, max_df=1.0, ma...ulti_class='ovr', penalty='l2', random_state=42, tol=0.0001,\n",
       "     verbose=0),\n",
       "           n_jobs=1))]),\n",
       "       fit_params=None, iid=True, n_jobs=1,\n",
       "       param_grid={'nlp__importance__tfidf__sublinear_tf': [True, False]},\n",
       "       pre_dispatch='2*n_jobs', refit=True, return_train_score='warn',\n",
       "       scoring=None, verbose=2)"
      ]
     },
     "execution_count": 8,
     "metadata": {},
     "output_type": "execute_result"
    }
   ],
   "source": [
    "X_train, X_test, Y_train, Y_test = train_test_split(X, Y, test_size=0.2)\n",
    "cv.fit(X_train, Y_train)"
   ]
  },
  {
   "cell_type": "code",
   "execution_count": 13,
   "metadata": {},
   "outputs": [
    {
     "name": "stderr",
     "output_type": "stream",
     "text": [
      "/opt/conda/lib/python3.6/site-packages/sklearn/utils/deprecation.py:122: FutureWarning: You are accessing a training score ('split0_train_score'), which will not be available by default any more in 0.21. If you need training scores, please set return_train_score=True\n",
      "  warnings.warn(*warn_args, **warn_kwargs)\n",
      "/opt/conda/lib/python3.6/site-packages/sklearn/utils/deprecation.py:122: FutureWarning: You are accessing a training score ('split1_train_score'), which will not be available by default any more in 0.21. If you need training scores, please set return_train_score=True\n",
      "  warnings.warn(*warn_args, **warn_kwargs)\n",
      "/opt/conda/lib/python3.6/site-packages/sklearn/utils/deprecation.py:122: FutureWarning: You are accessing a training score ('mean_train_score'), which will not be available by default any more in 0.21. If you need training scores, please set return_train_score=True\n",
      "  warnings.warn(*warn_args, **warn_kwargs)\n",
      "/opt/conda/lib/python3.6/site-packages/sklearn/utils/deprecation.py:122: FutureWarning: You are accessing a training score ('std_train_score'), which will not be available by default any more in 0.21. If you need training scores, please set return_train_score=True\n",
      "  warnings.warn(*warn_args, **warn_kwargs)\n"
     ]
    },
    {
     "data": {
      "text/html": [
       "<div>\n",
       "<style scoped>\n",
       "    .dataframe tbody tr th:only-of-type {\n",
       "        vertical-align: middle;\n",
       "    }\n",
       "\n",
       "    .dataframe tbody tr th {\n",
       "        vertical-align: top;\n",
       "    }\n",
       "\n",
       "    .dataframe thead th {\n",
       "        text-align: right;\n",
       "    }\n",
       "</style>\n",
       "<table border=\"1\" class=\"dataframe\">\n",
       "  <thead>\n",
       "    <tr style=\"text-align: right;\">\n",
       "      <th></th>\n",
       "      <th>mean_fit_time</th>\n",
       "      <th>std_fit_time</th>\n",
       "      <th>mean_score_time</th>\n",
       "      <th>std_score_time</th>\n",
       "      <th>param_nlp__importance__tfidf__sublinear_tf</th>\n",
       "      <th>params</th>\n",
       "      <th>split0_test_score</th>\n",
       "      <th>split1_test_score</th>\n",
       "      <th>mean_test_score</th>\n",
       "      <th>std_test_score</th>\n",
       "      <th>rank_test_score</th>\n",
       "      <th>split0_train_score</th>\n",
       "      <th>split1_train_score</th>\n",
       "      <th>mean_train_score</th>\n",
       "      <th>std_train_score</th>\n",
       "    </tr>\n",
       "  </thead>\n",
       "  <tbody>\n",
       "    <tr>\n",
       "      <th>0</th>\n",
       "      <td>110.603577</td>\n",
       "      <td>0.437512</td>\n",
       "      <td>102.343742</td>\n",
       "      <td>2.141879</td>\n",
       "      <td>True</td>\n",
       "      <td>{'nlp__importance__tfidf__sublinear_tf': True}</td>\n",
       "      <td>0.281358</td>\n",
       "      <td>0.271258</td>\n",
       "      <td>0.276308</td>\n",
       "      <td>0.005050</td>\n",
       "      <td>1</td>\n",
       "      <td>0.620142</td>\n",
       "      <td>0.605137</td>\n",
       "      <td>0.612639</td>\n",
       "      <td>0.007503</td>\n",
       "    </tr>\n",
       "    <tr>\n",
       "      <th>1</th>\n",
       "      <td>111.011038</td>\n",
       "      <td>0.533889</td>\n",
       "      <td>105.667256</td>\n",
       "      <td>0.569938</td>\n",
       "      <td>False</td>\n",
       "      <td>{'nlp__importance__tfidf__sublinear_tf': False}</td>\n",
       "      <td>0.279146</td>\n",
       "      <td>0.269431</td>\n",
       "      <td>0.274288</td>\n",
       "      <td>0.004858</td>\n",
       "      <td>2</td>\n",
       "      <td>0.619084</td>\n",
       "      <td>0.602443</td>\n",
       "      <td>0.610764</td>\n",
       "      <td>0.008321</td>\n",
       "    </tr>\n",
       "  </tbody>\n",
       "</table>\n",
       "</div>"
      ],
      "text/plain": [
       "   mean_fit_time  std_fit_time  mean_score_time  std_score_time  \\\n",
       "0     110.603577      0.437512       102.343742        2.141879   \n",
       "1     111.011038      0.533889       105.667256        0.569938   \n",
       "\n",
       "  param_nlp__importance__tfidf__sublinear_tf  \\\n",
       "0                                       True   \n",
       "1                                      False   \n",
       "\n",
       "                                            params  split0_test_score  \\\n",
       "0   {'nlp__importance__tfidf__sublinear_tf': True}           0.281358   \n",
       "1  {'nlp__importance__tfidf__sublinear_tf': False}           0.279146   \n",
       "\n",
       "   split1_test_score  mean_test_score  std_test_score  rank_test_score  \\\n",
       "0           0.271258         0.276308        0.005050                1   \n",
       "1           0.269431         0.274288        0.004858                2   \n",
       "\n",
       "   split0_train_score  split1_train_score  mean_train_score  std_train_score  \n",
       "0            0.620142            0.605137          0.612639         0.007503  \n",
       "1            0.619084            0.602443          0.610764         0.008321  "
      ]
     },
     "execution_count": 13,
     "metadata": {},
     "output_type": "execute_result"
    }
   ],
   "source": [
    "pd.DataFrame(cv.cv_results_)"
   ]
  },
  {
   "cell_type": "markdown",
   "metadata": {},
   "source": [
    "### 7. Test your model\n",
    "Show the accuracy, precision, and recall of the tuned model.  \n",
    "\n",
    "Since this project focuses on code quality, process, and  pipelines, there is no minimum performance metric needed to pass. However, make sure to fine tune your models for accuracy, precision and recall to make your project stand out - especially for your portfolio!"
   ]
  },
  {
   "cell_type": "code",
   "execution_count": 10,
   "metadata": {},
   "outputs": [
    {
     "name": "stdout",
     "output_type": "stream",
     "text": [
      "             precision    recall  f1-score   support\n",
      "\n",
      "          0       0.57      0.74      0.64       866\n",
      "          1       0.13      0.11      0.12        27\n",
      "          2       0.70      0.73      0.72      2168\n",
      "          3       0.32      0.54      0.40       373\n",
      "          4       0.34      0.54      0.42       251\n",
      "          5       0.22      0.35      0.27       162\n",
      "          6       0.13      0.16      0.14        93\n",
      "          7       0.44      0.58      0.50       161\n",
      "          8       0.64      0.79      0.71       320\n",
      "          9       0.71      0.81      0.76       583\n",
      "         10       0.57      0.72      0.63       470\n",
      "         11       0.57      0.66      0.61        86\n",
      "         12       0.42      0.54      0.47       127\n",
      "         13       0.19      0.21      0.20        73\n",
      "         14       0.33      0.47      0.38       201\n",
      "         15       0.52      0.70      0.59       215\n",
      "         16       0.33      0.53      0.41       707\n",
      "         17       0.20      0.38      0.27       336\n",
      "         18       0.23      0.39      0.29       237\n",
      "         19       0.46      0.62      0.53       260\n",
      "         20       0.46      0.53      0.49       114\n",
      "         21       0.08      0.05      0.06        37\n",
      "         22       0.26      0.27      0.27        62\n",
      "         23       0.00      0.00      0.00        24\n",
      "         24       0.14      0.17      0.15        65\n",
      "         25       0.18      0.33      0.23       226\n",
      "         26       0.75      0.79      0.77      1498\n",
      "         27       0.56      0.66      0.60       447\n",
      "         28       0.66      0.78      0.72       520\n",
      "         29       0.48      0.38      0.42        63\n",
      "         30       0.80      0.81      0.81       504\n",
      "         31       0.40      0.53      0.45        99\n",
      "         32       0.23      0.40      0.29       279\n",
      "         33       0.52      0.69      0.59      1020\n",
      "\n",
      "avg / total       0.54      0.65      0.59     12674\n",
      "\n"
     ]
    }
   ],
   "source": [
    "Y_pred = cv.predict(X_test)\n",
    "print(classification_report(Y_test, Y_pred))"
   ]
  },
  {
   "cell_type": "code",
   "execution_count": 17,
   "metadata": {},
   "outputs": [],
   "source": [
    "pipeline = Pipeline([\n",
    "    ('nlp', FeatureUnion([\n",
    "        ('importance', Pipeline([\n",
    "            ('bow', CountVectorizer(tokenizer=tokenize, min_df=5, ngram_range=(1,2))),\n",
    "            ('tfidf', TfidfTransformer())\n",
    "        ])),\n",
    "         ('sentiment', VaderSentiment(tokenize))\n",
    "    ])),\n",
    "    ('scale', Normalizer()),\n",
    "    ('kernel', Nystroem(random_state=42)),\n",
    "    ('clf', MultiOutputClassifier(LinearSVC(random_state=42, class_weight='balanced')))\n",
    "])"
   ]
  },
  {
   "cell_type": "code",
   "execution_count": 18,
   "metadata": {},
   "outputs": [
    {
     "data": {
      "text/plain": [
       "Pipeline(memory=None,\n",
       "     steps=[('nlp', FeatureUnion(n_jobs=1,\n",
       "       transformer_list=[('importance', Pipeline(memory=None,\n",
       "     steps=[('bow', CountVectorizer(analyzer='word', binary=False, decode_error='strict',\n",
       "        dtype=<class 'numpy.int64'>, encoding='utf-8', input='content',\n",
       "        lowercase=True, max_df=1.0, ma...ulti_class='ovr', penalty='l2', random_state=42, tol=0.0001,\n",
       "     verbose=0),\n",
       "           n_jobs=1))])"
      ]
     },
     "execution_count": 18,
     "metadata": {},
     "output_type": "execute_result"
    }
   ],
   "source": [
    "X_train, X_test, Y_train, Y_test = train_test_split(X, Y, test_size=0.2)\n",
    "pipeline.fit(X_train, Y_train)"
   ]
  },
  {
   "cell_type": "code",
   "execution_count": 20,
   "metadata": {},
   "outputs": [
    {
     "name": "stdout",
     "output_type": "stream",
     "text": [
      "             precision    recall  f1-score   support\n",
      "\n",
      "          0       0.29      0.56      0.39       917\n",
      "          1       0.00      0.31      0.01        16\n",
      "          2       0.53      0.48      0.51      2105\n",
      "          3       0.10      0.67      0.17       423\n",
      "          4       0.07      0.63      0.12       291\n",
      "          5       0.04      0.51      0.07       147\n",
      "          6       0.03      0.47      0.05        94\n",
      "          7       0.06      0.65      0.12       153\n",
      "          8       0.13      0.71      0.22       336\n",
      "          9       0.37      0.65      0.47       575\n",
      "         10       0.12      0.68      0.20       462\n",
      "         11       0.02      0.63      0.04        79\n",
      "         12       0.03      0.52      0.05        99\n",
      "         13       0.02      0.48      0.04        62\n",
      "         14       0.04      0.71      0.08       163\n",
      "         15       0.12      0.71      0.21       222\n",
      "         16       0.17      0.52      0.25       683\n",
      "         17       0.08      0.72      0.15       332\n",
      "         18       0.06      0.73      0.12       255\n",
      "         19       0.11      0.61      0.19       278\n",
      "         20       0.02      0.75      0.04        85\n",
      "         21       0.01      0.69      0.01        26\n",
      "         22       0.01      0.70      0.03        61\n",
      "         23       0.01      0.76      0.01        21\n",
      "         24       0.01      0.65      0.02        57\n",
      "         25       0.06      0.69      0.12       221\n",
      "         26       0.33      0.71      0.45      1421\n",
      "         27       0.11      0.75      0.19       413\n",
      "         28       0.13      0.75      0.22       487\n",
      "         29       0.02      0.73      0.03        37\n",
      "         30       0.18      0.56      0.27       497\n",
      "         31       0.03      0.76      0.05       100\n",
      "         32       0.07      0.71      0.13       246\n",
      "         33       0.29      0.52      0.37      1040\n",
      "\n",
      "avg / total       0.24      0.61      0.30     12404\n",
      "\n"
     ]
    }
   ],
   "source": [
    "Y_pred = pipeline.predict(X_test)\n",
    "print(classification_report(Y_test, Y_pred))"
   ]
  },
  {
   "cell_type": "markdown",
   "metadata": {},
   "source": [
    "### 8. Try improving your model further. Here are a few ideas:\n",
    "* try other machine learning algorithms\n",
    "* add other features besides the TF-IDF"
   ]
  },
  {
   "cell_type": "code",
   "execution_count": 6,
   "metadata": {},
   "outputs": [],
   "source": [
    "from nltk.sentiment.vader import SentimentIntensityAnalyzer\n",
    "\n",
    "class VaderSentiment(BaseEstimator, TransformerMixin):\n",
    "    ''' sentiment analysis using VADER method from: \n",
    "        Hutto, C.J. & Gilbert, E.E. (2014). VADER: A Parsimonious Rule-based Model for\n",
    "            Sentiment Analysis of Social Media Text. Eighth International Conference on\n",
    "            Weblogs and Social Media (ICWSM-14). Ann Arbor, MI, June 2014.\n",
    "    '''\n",
    "    \n",
    "    def __init__(self, tokenizer=None):\n",
    "        self.vader = SentimentIntensityAnalyzer()\n",
    "        self.tokenizer = tokenizer\n",
    "\n",
    "    def tokenize(self, text):\n",
    "        text = re.sub('[^a-zA-Z0-9]', ' ', text)\n",
    "        words = word_tokenize(text.lower())\n",
    "        words = [w for w in words if w not in stopwords.words('english')]\n",
    "        lemmatizer = WordNetLemmatizer()\n",
    "        for w in words:\n",
    "            lemmatizer.lemmatize(w)\n",
    "            lemmatizer.lemmatize(w, pos='v')\n",
    "            lemmatizer.lemmatize(w, pos='a')\n",
    "        return words\n",
    "\n",
    "    def analyze(self, text):\n",
    "        if self.tokenizer is None:\n",
    "            text = ' '.join(self.tokenize(text))\n",
    "        else:\n",
    "            text = ' '.join(self.tokenizer(text))\n",
    "        scores = self.vader.polarity_scores(text)\n",
    "        return pd.Series([scores['neg'], scores['neu'], scores['pos']])\n",
    "\n",
    "    def fit(self, X, y=None):\n",
    "        return self\n",
    "\n",
    "    def transform(self, X, y=None):\n",
    "        scores = pd.Series(X).apply(self.analyze)\n",
    "        scores.columns = ['neg', 'neu', 'pos']\n",
    "        return scores"
   ]
  },
  {
   "cell_type": "markdown",
   "metadata": {},
   "source": [
    "### 9. Export your model as a pickle file"
   ]
  },
  {
   "cell_type": "code",
   "execution_count": 21,
   "metadata": {},
   "outputs": [
    {
     "data": {
      "text/plain": [
       "['model.pkl']"
      ]
     },
     "execution_count": 21,
     "metadata": {},
     "output_type": "execute_result"
    }
   ],
   "source": [
    "joblib.dump(pipeline, 'model.pkl', compress=1)"
   ]
  },
  {
   "cell_type": "markdown",
   "metadata": {},
   "source": [
    "### 10. Use this notebook to complete `train.py`\n",
    "Use the template file attached in the Resources folder to write a script that runs the steps above to create a database and export a model based on a new dataset specified by the user."
   ]
  },
  {
   "cell_type": "code",
   "execution_count": null,
   "metadata": {},
   "outputs": [],
   "source": []
  }
 ],
 "metadata": {
  "kernelspec": {
   "display_name": "Python 3",
   "language": "python",
   "name": "python3"
  },
  "language_info": {
   "codemirror_mode": {
    "name": "ipython",
    "version": 3
   },
   "file_extension": ".py",
   "mimetype": "text/x-python",
   "name": "python",
   "nbconvert_exporter": "python",
   "pygments_lexer": "ipython3",
   "version": "3.6.3"
  }
 },
 "nbformat": 4,
 "nbformat_minor": 2
}
